{
 "cells": [
  {
   "cell_type": "code",
   "execution_count": 2,
   "metadata": {},
   "outputs": [],
   "source": [
    "import pyttsx3"
   ]
  },
  {
   "cell_type": "code",
   "execution_count": 4,
   "metadata": {},
   "outputs": [],
   "source": [
    "tts = pyttsx3.init()\n",
    "\n"
   ]
  },
  {
   "cell_type": "code",
   "execution_count": 5,
   "metadata": {},
   "outputs": [
    {
     "name": "stdout",
     "output_type": "stream",
     "text": [
      "Your name:Rishabh\n"
     ]
    }
   ],
   "source": [
    "tts.say(\"Hello. My Name Is JARVIS. And Your Name Is?\")\n",
    "tts.runAndWait()\n",
    "\n",
    "name = input(\"Your name:\")\n",
    "\n",
    "tts.say(\"Nice to meet you \" + name)\n",
    "tts.runAndWait()\n",
    "\n"
   ]
  },
  {
   "cell_type": "code",
   "execution_count": 6,
   "metadata": {},
   "outputs": [
    {
     "name": "stdout",
     "output_type": "stream",
     "text": [
      "Answer:yes\n",
      "Answer:yes\n"
     ]
    }
   ],
   "source": [
    "tts.say(\"Would you like to be my friend?\")\n",
    "tts.runAndWait()\n",
    "\n",
    "answer = input(\"Answer:\")\n",
    "\n",
    "if(answer == \"yes\"):\n",
    "    tts.say(\"Thanks for accepting my friendship!\")\n",
    "else:\n",
    "    tts.say(\"Thanks for your answer.\")\n",
    "\n",
    "tts.runAndWait()\n",
    "\n",
    "if(answer == \"yes\"):\n",
    "    tts.say(\"Would you like to play a game with me?\")\n",
    "\n",
    "tts.runAndWait()\n",
    "\n",
    "gameRequest = input(\"Answer:\")\n",
    "\n",
    "if(gameRequest == \"yes\"):\n",
    "    tts.say(\"Ok, Lest go and play a game together.\")\n",
    "else:\n",
    "    tts.say(\"Ok, No problem. Anyway i will play alone.\")\n",
    "\n",
    "tts.runAndWait()"
   ]
  },
  {
   "cell_type": "code",
   "execution_count": null,
   "metadata": {},
   "outputs": [],
   "source": []
  }
 ],
 "metadata": {
  "kernelspec": {
   "display_name": "Python 3",
   "language": "python",
   "name": "python3"
  },
  "language_info": {
   "codemirror_mode": {
    "name": "ipython",
    "version": 3
   },
   "file_extension": ".py",
   "mimetype": "text/x-python",
   "name": "python",
   "nbconvert_exporter": "python",
   "pygments_lexer": "ipython3",
   "version": "3.6.5"
  }
 },
 "nbformat": 4,
 "nbformat_minor": 2
}
